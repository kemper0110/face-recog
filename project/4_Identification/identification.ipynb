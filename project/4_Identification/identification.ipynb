{
 "cells": [
  {
   "cell_type": "markdown",
   "source": [
    "# Идентификация\n",
    "Определение, кто изображен на фото"
   ],
   "metadata": {
    "collapsed": false,
    "pycharm": {
     "name": "#%% md\n"
    }
   }
  },
  {
   "cell_type": "code",
   "execution_count": 1,
   "outputs": [
    {
     "name": "stderr",
     "output_type": "stream",
     "text": [
      "C:\\Users\\danil\\Desktop\\neuro\\venv\\lib\\site-packages\\numpy\\_distributor_init.py:30: UserWarning: loaded more than 1 DLL from .libs:\n",
      "C:\\Users\\danil\\Desktop\\neuro\\venv\\lib\\site-packages\\numpy\\.libs\\libopenblas.FB5AE2TYXYH2IJRDKGDGQ3XBKLKTF43H.gfortran-win_amd64.dll\n",
      "C:\\Users\\danil\\Desktop\\neuro\\venv\\lib\\site-packages\\numpy\\.libs\\libopenblas64__v0.3.21-gcc_10_3_0.dll\n",
      "  warnings.warn(\"loaded more than 1 DLL from .libs:\"\n"
     ]
    }
   ],
   "source": [
    "import os\n",
    "import math\n",
    "import dlib\n",
    "import cv2\n",
    "import numpy as np\n",
    "import matplotlib.pyplot as plt\n",
    "import tensorflow as tf\n",
    "import keras\n",
    "from keras_vggface.vggface import VGGFace\n",
    "from keras_vggface.utils import preprocess_input\n",
    "from keras import backend as K\n",
    "from sklearn import neighbors\n",
    "from sklearn import svm\n",
    "from project.dg_face import utils, detection, alignment, recognition\n",
    "\n",
    "K.clear_session()"
   ],
   "metadata": {
    "collapsed": false,
    "ExecuteTime": {
     "end_time": "2023-05-19T18:54:39.557714Z",
     "start_time": "2023-05-19T18:54:27.400712600Z"
    },
    "pycharm": {
     "name": "#%%\n"
    }
   }
  },
  {
   "cell_type": "code",
   "execution_count": 2,
   "outputs": [],
   "source": [
    "model = VGGFace(include_top=False, model='vgg16', input_shape=(224, 224, 3), pooling='avg')"
   ],
   "metadata": {
    "collapsed": false,
    "ExecuteTime": {
     "end_time": "2023-05-19T18:56:14.007458300Z",
     "start_time": "2023-05-19T18:56:11.601803200Z"
    },
    "pycharm": {
     "name": "#%%\n"
    }
   }
  },
  {
   "cell_type": "code",
   "execution_count": 3,
   "outputs": [
    {
     "name": "stdout",
     "output_type": "stream",
     "text": [
      "train/alex_lacamoire/img1.jpg\n",
      "1/1 [==============================] - 1s 641ms/step\n",
      "train/biden/biden.jpg\n",
      "1/1 [==============================] - 0s 141ms/step\n",
      "train/biden/biden2.jpg\n",
      "1/1 [==============================] - 0s 141ms/step\n",
      "train/kit_harington/john1.jpeg\n",
      "1/1 [==============================] - 0s 141ms/step\n",
      "train/kit_harington/john2.jpeg\n",
      "1/1 [==============================] - 0s 187ms/step\n",
      "train/obama/obama.jpg\n",
      "1/1 [==============================] - 0s 156ms/step\n",
      "train/obama/obama2.jpg\n",
      "1/1 [==============================] - 0s 125ms/step\n",
      "train/rose_leslie/img1.jpg\n",
      "1/1 [==============================] - 0s 141ms/step\n",
      "train/rose_leslie/img2.jpg\n",
      "1/1 [==============================] - 0s 140ms/step\n"
     ]
    }
   ],
   "source": [
    "X_train, y_train = [], []\n",
    "for person in os.listdir('train'):\n",
    "    for person_img in os.listdir(\"train/\" + person):\n",
    "        path = 'train/' + person + '/' + person_img\n",
    "        print(path)\n",
    "        img = utils.load_image(path)\n",
    "        faces = detection.detect_faces(img)\n",
    "        if len(faces) != 1:\n",
    "            print(path, 'was skipped because of len(faces)=', len(faces))\n",
    "            continue\n",
    "        face_image = alignment.aligned_face(img, faces[0])\n",
    "        face_image = preprocess_input(face_image.astype(float), version=1)\n",
    "        encoding = model.predict(np.array([face_image]))[0]\n",
    "        X_train.append(encoding)\n",
    "        y_train.append(person)\n",
    "X_test, y_test = [], []\n",
    "for label in os.listdir('test'):\n",
    "    img = utils.load_image('test/' + label)\n",
    "    X_test.append(img)\n",
    "    y_test.append(label)"
   ],
   "metadata": {
    "collapsed": false,
    "ExecuteTime": {
     "end_time": "2023-05-19T18:56:28.492904900Z",
     "start_time": "2023-05-19T18:56:14.013459700Z"
    },
    "pycharm": {
     "name": "#%%\n"
    }
   }
  },
  {
   "cell_type": "markdown",
   "source": [
    "# Нормализация и кодирование"
   ],
   "metadata": {
    "collapsed": false,
    "pycharm": {
     "name": "#%% md\n"
    }
   }
  },
  {
   "cell_type": "code",
   "execution_count": 4,
   "outputs": [],
   "source": [
    "from sklearn.preprocessing import Normalizer, LabelEncoder\n",
    "in_encoder = Normalizer(norm='l2')\n",
    "embeddings = in_encoder.transform(X_train)\n",
    "\n",
    "out_encoder = LabelEncoder()\n",
    "labels = out_encoder.fit_transform(y_train)"
   ],
   "metadata": {
    "collapsed": false,
    "ExecuteTime": {
     "end_time": "2023-05-19T18:56:28.508905100Z",
     "start_time": "2023-05-19T18:56:28.497904700Z"
    },
    "pycharm": {
     "name": "#%%\n"
    }
   }
  },
  {
   "cell_type": "code",
   "execution_count": null,
   "outputs": [],
   "source": [
    "image_id = 4\n",
    "image = X_test[image_id]\n",
    "faces = detection.detect_faces(image)\n",
    "_aligned_faces = alignment.aligned_faces(image, faces) # throttling\n",
    "# _aligned_faces = [preprocess_input(face.astype(float), version=1) for face in _aligned_faces]\n",
    "# predicted_embeddings = model.predict(np.array(_aligned_faces))\n",
    "# predicted_embeddings = in_encoder.transform(predicted_embeddings)"
   ],
   "metadata": {
    "collapsed": false,
    "pycharm": {
     "name": "#%%\n",
     "is_executing": true
    }
   }
  },
  {
   "cell_type": "markdown",
   "source": [
    "## Извлечение эмбеддингов\n",
    "из фотографии, которой нет в тренировочном датасете"
   ],
   "metadata": {
    "collapsed": false,
    "pycharm": {
     "name": "#%% md\n"
    }
   }
  },
  {
   "cell_type": "code",
   "execution_count": null,
   "outputs": [],
   "source": [
    "image_id = 4\n",
    "image = X_test[image_id]\n",
    "faces = detection.detect_faces(image)\n",
    "_aligned_faces = alignment.aligned_faces(image, faces)\n",
    "_aligned_faces = [preprocess_input(face.astype(float), version=1) for face in _aligned_faces]\n",
    "predicted_embeddings = model.predict(np.array(_aligned_faces))\n",
    "predicted_embeddings = in_encoder.transform(predicted_embeddings)\n",
    "print('actually this is', y_test[image_id])"
   ],
   "metadata": {
    "collapsed": false,
    "ExecuteTime": {
     "end_time": "2023-05-19T18:56:31.760200400Z",
     "start_time": "2023-05-19T18:56:28.512905600Z"
    },
    "pycharm": {
     "name": "#%%\n",
     "is_executing": true
    }
   }
  },
  {
   "cell_type": "markdown",
   "source": [
    "# Метод ближайших соседей"
   ],
   "metadata": {
    "collapsed": false,
    "pycharm": {
     "name": "#%% md\n"
    }
   }
  },
  {
   "cell_type": "markdown",
   "source": [
    "### Обучение классификатора"
   ],
   "metadata": {
    "collapsed": false,
    "pycharm": {
     "name": "#%% md\n"
    }
   }
  },
  {
   "cell_type": "code",
   "execution_count": null,
   "outputs": [],
   "source": [
    "knn_clf = neighbors.KNeighborsClassifier(n_neighbors=int(round(math.sqrt(len(X_train)))), algorithm='ball_tree', weights='distance')\n",
    "knn_clf.fit(embeddings, labels)"
   ],
   "metadata": {
    "collapsed": false,
    "ExecuteTime": {
     "end_time": "2023-05-19T18:56:31.823201Z",
     "start_time": "2023-05-19T18:56:31.763199Z"
    },
    "pycharm": {
     "name": "#%%\n",
     "is_executing": true
    }
   }
  },
  {
   "cell_type": "markdown",
   "source": [
    "### Предсказание"
   ],
   "metadata": {
    "collapsed": false,
    "pycharm": {
     "name": "#%% md\n"
    }
   }
  },
  {
   "cell_type": "code",
   "execution_count": null,
   "outputs": [],
   "source": [
    "closest_distances = knn_clf.kneighbors(predicted_embeddings, n_neighbors=1)\n",
    "closest_distances"
   ],
   "metadata": {
    "collapsed": false,
    "ExecuteTime": {
     "end_time": "2023-05-19T18:56:31.824200200Z",
     "start_time": "2023-05-19T18:56:31.806199600Z"
    },
    "pycharm": {
     "name": "#%%\n",
     "is_executing": true
    }
   }
  },
  {
   "cell_type": "code",
   "execution_count": null,
   "outputs": [],
   "source": [
    "# out_encoder.inverse_transform(knn_clf.predict(embeddings_normalized))\n",
    "pred = knn_clf.predict(predicted_embeddings)\n",
    "out_encoder.inverse_transform(pred)"
   ],
   "metadata": {
    "collapsed": false,
    "ExecuteTime": {
     "end_time": "2023-05-19T18:56:31.825201Z",
     "start_time": "2023-05-19T18:56:31.812200800Z"
    },
    "pycharm": {
     "name": "#%%\n",
     "is_executing": true
    }
   }
  },
  {
   "cell_type": "code",
   "execution_count": null,
   "outputs": [],
   "source": [
    "distance_threshold = 0.7\n",
    "are_matches = [closest_distances[0][i][0] <= distance_threshold for i in range(len(faces))]\n",
    "# // terrible syntax\n",
    "res = [out_encoder.inverse_transform([pred])[0] if rec else \"unknown\" for pred, rec in zip(knn_clf.predict(predicted_embeddings), are_matches)]\n",
    "res"
   ],
   "metadata": {
    "collapsed": false,
    "ExecuteTime": {
     "end_time": "2023-05-19T18:59:43.050313Z",
     "start_time": "2023-05-19T18:59:43.011310300Z"
    },
    "pycharm": {
     "name": "#%%\n",
     "is_executing": true
    }
   }
  },
  {
   "cell_type": "markdown",
   "source": [
    "# Метод опорных векторов"
   ],
   "metadata": {
    "collapsed": false,
    "pycharm": {
     "name": "#%% md\n"
    }
   }
  },
  {
   "cell_type": "markdown",
   "source": [
    "### Обучение классификатора"
   ],
   "metadata": {
    "collapsed": false,
    "pycharm": {
     "name": "#%% md\n"
    }
   }
  },
  {
   "cell_type": "code",
   "execution_count": null,
   "outputs": [],
   "source": [
    "clf = svm.SVC(kernel='linear', probability=True, C=15)\n",
    "clf.fit(embeddings, labels)"
   ],
   "metadata": {
    "collapsed": false,
    "ExecuteTime": {
     "end_time": "2023-05-19T19:01:20.222191300Z",
     "start_time": "2023-05-19T19:01:20.145755600Z"
    },
    "pycharm": {
     "name": "#%%\n",
     "is_executing": true
    }
   }
  },
  {
   "cell_type": "markdown",
   "source": [
    "### Предсказание"
   ],
   "metadata": {
    "collapsed": false,
    "pycharm": {
     "name": "#%% md\n"
    }
   }
  },
  {
   "cell_type": "code",
   "execution_count": null,
   "outputs": [],
   "source": [
    "preds = clf.predict(predicted_embeddings)\n",
    "print(out_encoder.inverse_transform(preds))"
   ],
   "metadata": {
    "collapsed": false,
    "ExecuteTime": {
     "end_time": "2023-05-19T19:01:22.239409300Z",
     "start_time": "2023-05-19T19:01:22.214391200Z"
    },
    "pycharm": {
     "name": "#%%\n",
     "is_executing": true
    }
   }
  },
  {
   "cell_type": "code",
   "execution_count": null,
   "outputs": [],
   "source": [
    "svc_threshold = 20\n",
    "are_matches = [proba[pred] * 100 <= svc_threshold for proba, pred in zip(clf.predict_proba(embeddings), preds)]\n",
    "res = [out_encoder.inverse_transform([pred])[0] if rec else \"unknown\" for pred, rec in zip(clf.predict(predicted_embeddings), are_matches)]\n",
    "res"
   ],
   "metadata": {
    "collapsed": false,
    "ExecuteTime": {
     "end_time": "2023-05-19T19:04:45.667534200Z",
     "start_time": "2023-05-19T19:04:45.654541800Z"
    },
    "pycharm": {
     "name": "#%%\n",
     "is_executing": true
    }
   }
  },
  {
   "cell_type": "markdown",
   "source": [
    "# Добавление нового лица"
   ],
   "metadata": {
    "collapsed": false,
    "pycharm": {
     "name": "#%% md\n"
    }
   }
  },
  {
   "cell_type": "code",
   "execution_count": null,
   "outputs": [],
   "source": [
    "img = utils.load_image('Thomas-Shelby-Train.jpg')\n",
    "faces = detection.detect_faces(img)\n",
    "if len(faces) != 1:\n",
    "    raise Exception('was skipped because of len(faces)=%s' % len(faces))\n",
    "face_image = alignment.aligned_face(img, faces[0])\n",
    "face_image = preprocess_input(face_image.astype(float), version=1)\n",
    "train_encoding = model.predict(np.array([face_image]))\n",
    "train_encoding = in_encoder.transform(train_encoding)\n",
    "\n",
    "img = utils.load_image('Thomas-Shelby-Test.jpg')\n",
    "faces = detection.detect_faces(img)\n",
    "if len(faces) != 1:\n",
    "    raise Exception('was skipped because of len(faces)=%s' % len(faces))\n",
    "face_image = alignment.aligned_face(img, faces[0])\n",
    "face_image = preprocess_input(face_image.astype(float), version=1)\n",
    "test_encoding = model.predict(np.array([face_image]))\n",
    "test_encoding = in_encoder.transform(test_encoding)"
   ],
   "metadata": {
    "collapsed": false,
    "ExecuteTime": {
     "end_time": "2023-05-19T19:04:55.875410200Z",
     "start_time": "2023-05-19T19:04:54.972410300Z"
    },
    "pycharm": {
     "name": "#%%\n",
     "is_executing": true
    }
   }
  },
  {
   "cell_type": "code",
   "execution_count": null,
   "outputs": [],
   "source": [
    "# заново обучим энкодер идентификаторов, включая имя нового человека\n",
    "labels = out_encoder.fit_transform([*y_train, 'thomas_shelby'])\n",
    "embeddings = in_encoder.transform([*X_train, *train_encoding])"
   ],
   "metadata": {
    "collapsed": false,
    "ExecuteTime": {
     "end_time": "2023-05-19T19:05:02.268524100Z",
     "start_time": "2023-05-19T19:05:02.255524200Z"
    },
    "pycharm": {
     "name": "#%%\n",
     "is_executing": true
    }
   }
  },
  {
   "cell_type": "code",
   "execution_count": null,
   "outputs": [],
   "source": [
    "clf.fit(embeddings, labels)\n",
    "knn_clf.fit(embeddings, labels)"
   ],
   "metadata": {
    "collapsed": false,
    "ExecuteTime": {
     "end_time": "2023-05-19T19:05:19.710303700Z",
     "start_time": "2023-05-19T19:05:19.703303700Z"
    },
    "pycharm": {
     "name": "#%%\n",
     "is_executing": true
    }
   }
  },
  {
   "cell_type": "code",
   "execution_count": null,
   "outputs": [],
   "source": [
    "preds = clf.predict(test_encoding)\n",
    "print(\"svc:\", out_encoder.inverse_transform(preds))\n",
    "preds = clf.predict(test_encoding)\n",
    "print(\"knn:\", out_encoder.inverse_transform(preds))"
   ],
   "metadata": {
    "collapsed": false,
    "ExecuteTime": {
     "end_time": "2023-05-19T19:06:06.227412200Z",
     "start_time": "2023-05-19T19:06:06.211179400Z"
    },
    "pycharm": {
     "name": "#%%\n",
     "is_executing": true
    }
   }
  }
 ],
 "metadata": {
  "kernelspec": {
   "display_name": "Python 3",
   "language": "python",
   "name": "python3"
  },
  "language_info": {
   "codemirror_mode": {
    "name": "ipython",
    "version": 2
   },
   "file_extension": ".py",
   "mimetype": "text/x-python",
   "name": "python",
   "nbconvert_exporter": "python",
   "pygments_lexer": "ipython2",
   "version": "2.7.6"
  }
 },
 "nbformat": 4,
 "nbformat_minor": 0
}