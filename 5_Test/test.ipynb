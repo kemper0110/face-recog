{
 "cells": [
  {
   "cell_type": "code",
   "execution_count": 1,
   "metadata": {
    "collapsed": true,
    "ExecuteTime": {
     "end_time": "2023-05-25T14:24:32.815021700Z",
     "start_time": "2023-05-25T14:24:31.325061400Z"
    }
   },
   "outputs": [],
   "source": [
    "from sklearn import svm\n",
    "# from project.dg_face import utils, detection, alignment, recognition\n",
    "import os\n",
    "import numpy as np\n",
    "from sklearn.preprocessing import Normalizer, LabelEncoder"
   ]
  },
  {
   "cell_type": "code",
   "execution_count": 2,
   "outputs": [],
   "source": [
    "train = np.load(\"npz_30_20/train.npz\")\n",
    "X_train_raw, y_train_raw = train['X'], train['y']\n",
    "test = np.load('npz_30_20/test.npz')\n",
    "X_test_raw, y_test_raw = test['X'], test['y']"
   ],
   "metadata": {
    "collapsed": false,
    "ExecuteTime": {
     "end_time": "2023-05-25T14:24:33.809463700Z",
     "start_time": "2023-05-25T14:24:33.778939300Z"
    }
   }
  },
  {
   "cell_type": "code",
   "execution_count": 17,
   "outputs": [],
   "source": [
    "in_encoder = Normalizer(norm='l2')\n",
    "X_train = in_encoder.transform(X_train_raw)\n",
    "X_test = in_encoder.transform(X_test_raw)\n",
    "# X_train = X_train_raw\n",
    "# X_test = X_test_raw"
   ],
   "metadata": {
    "collapsed": false,
    "ExecuteTime": {
     "end_time": "2023-05-25T14:27:57.589548500Z",
     "start_time": "2023-05-25T14:27:57.569551800Z"
    }
   }
  },
  {
   "cell_type": "code",
   "execution_count": 4,
   "outputs": [],
   "source": [
    "out_encoder = LabelEncoder()\n",
    "y_train = out_encoder.fit_transform(y_train_raw)"
   ],
   "metadata": {
    "collapsed": false,
    "ExecuteTime": {
     "end_time": "2023-05-25T14:24:49.762675400Z",
     "start_time": "2023-05-25T14:24:49.756667400Z"
    }
   }
  },
  {
   "cell_type": "code",
   "execution_count": 21,
   "outputs": [],
   "source": [
    "def score(model, threshold, *, verbose=False):\n",
    "    mistakes = []\n",
    "    unknown_probas, known_probas = [], []\n",
    "    for (x, y) in zip(X_test, y_test_raw):\n",
    "        probas = model.predict_proba([x])[0]\n",
    "        pred = probas.argmax()\n",
    "        proba = probas[pred]\n",
    "        are_matches = proba * 100 >= threshold\n",
    "        label = out_encoder.inverse_transform([pred])[0] if are_matches else \"unknown\"\n",
    "        if verbose:\n",
    "            print(\"actually:\", y, \"predicted:\", label, \"proba:\", proba)\n",
    "        if y == 'unknown':\n",
    "            unknown_probas.append(proba)\n",
    "        else:\n",
    "            known_probas.append(proba)\n",
    "        if label != y:\n",
    "            mistakes.append([y, label, proba])\n",
    "    print(\"mistake count\", len(mistakes))\n",
    "    known_mean = 0 if len(known_probas) == 0 else np.array(known_probas).mean()\n",
    "    unknown_mean = 0 if len(unknown_probas) == 0 else np.array(unknown_probas).mean()\n",
    "    print(\"known mean\", known_mean, \"unknown mean\", unknown_mean, \"delta\", abs(known_mean - unknown_mean))\n",
    "    return len(mistakes)"
   ],
   "metadata": {
    "collapsed": false,
    "ExecuteTime": {
     "end_time": "2023-05-25T14:28:43.812110800Z",
     "start_time": "2023-05-25T14:28:43.789831400Z"
    }
   }
  },
  {
   "cell_type": "code",
   "execution_count": null,
   "outputs": [],
   "source": [
    "def score(model, threshold, *, verbose=False):\n",
    "    mistakes = []\n",
    "    for (x, y) in zip(X_test, y_test_raw):\n",
    "        probas = model.predict_proba([x])[0]\n",
    "        pred = probas.argmax()\n",
    "        proba = probas[pred]\n",
    "        are_matches = proba * 100 >= threshold\n",
    "        label = out_encoder.inverse_transform([pred])[0] if are_matches else \"unknown\"\n",
    "        if verbose:\n",
    "            print(\"actually:\", y, \"predicted:\", label, \"proba:\", proba)\n",
    "        if label != y:\n",
    "            mistakes.append([y, label, proba])\n",
    "    print(\"mistake count\", len(mistakes))\n",
    "    return mistakes"
   ],
   "metadata": {
    "collapsed": false
   }
  },
  {
   "cell_type": "markdown",
   "source": [
    "Создаем модель для извлечения признаков"
   ],
   "metadata": {
    "collapsed": false
   }
  },
  {
   "cell_type": "code",
   "execution_count": 183,
   "outputs": [],
   "source": [
    "from sklearn.calibration import CalibratedClassifierCV"
   ],
   "metadata": {
    "collapsed": false,
    "ExecuteTime": {
     "end_time": "2023-05-24T19:39:28.095035400Z",
     "start_time": "2023-05-24T19:39:28.089036700Z"
    }
   }
  },
  {
   "cell_type": "code",
   "execution_count": 22,
   "outputs": [
    {
     "name": "stdout",
     "output_type": "stream",
     "text": [
      "actually: unknown predicted: unknown proba: 0.10654072865134827\n",
      "actually: unknown predicted: unknown proba: 0.07740878866781184\n",
      "actually: unknown predicted: unknown proba: 0.07685084104795382\n",
      "actually: unknown predicted: unknown proba: 0.06611585106118525\n",
      "actually: unknown predicted: unknown proba: 0.06846459973497107\n",
      "actually: unknown predicted: unknown proba: 0.07526176486536472\n",
      "actually: unknown predicted: unknown proba: 0.08373541672960777\n",
      "actually: unknown predicted: unknown proba: 0.08127657333048073\n",
      "actually: unknown predicted: unknown proba: 0.0912207241417642\n",
      "actually: unknown predicted: unknown proba: 0.10727479479002794\n",
      "actually: unknown predicted: unknown proba: 0.08951890012304287\n",
      "actually: unknown predicted: unknown proba: 0.10977032148227929\n",
      "actually: unknown predicted: unknown proba: 0.09857598760005648\n",
      "actually: unknown predicted: unknown proba: 0.07175737827753817\n",
      "actually: unknown predicted: unknown proba: 0.09153946136449298\n",
      "actually: unknown predicted: unknown proba: 0.08550128349569615\n",
      "actually: unknown predicted: unknown proba: 0.10159422536829699\n",
      "actually: unknown predicted: unknown proba: 0.08025361419066461\n",
      "actually: unknown predicted: unknown proba: 0.0924117212077198\n",
      "actually: unknown predicted: unknown proba: 0.07882755267275965\n",
      "actually: worker0 predicted: worker0 proba: 0.19582304258993202\n",
      "actually: worker1 predicted: worker1 proba: 0.17991149818236768\n",
      "actually: worker10 predicted: worker10 proba: 0.1273172567679421\n",
      "actually: worker11 predicted: worker11 proba: 0.15009250938796187\n",
      "actually: worker12 predicted: worker12 proba: 0.18618268645618088\n",
      "actually: worker13 predicted: worker13 proba: 0.11657929612876883\n",
      "actually: worker14 predicted: worker14 proba: 0.32684463718795187\n",
      "actually: worker15 predicted: worker15 proba: 0.16367953477772754\n",
      "actually: worker17 predicted: worker17 proba: 0.21697096546350314\n",
      "actually: worker18 predicted: worker18 proba: 0.21570219773081103\n",
      "actually: worker19 predicted: worker19 proba: 0.3004975465820164\n",
      "actually: worker2 predicted: worker2 proba: 0.12650620540413116\n",
      "actually: worker22 predicted: worker22 proba: 0.19734012337295667\n",
      "actually: worker23 predicted: worker23 proba: 0.20276261698826759\n",
      "actually: worker24 predicted: worker24 proba: 0.1208209002367527\n",
      "actually: worker28 predicted: worker28 proba: 0.2178980206647642\n",
      "actually: worker3 predicted: worker3 proba: 0.18778536667619505\n",
      "actually: worker30 predicted: worker30 proba: 0.16338056051539093\n",
      "actually: worker36 predicted: worker36 proba: 0.12753552851489758\n",
      "actually: worker37 predicted: worker37 proba: 0.24396140901166447\n",
      "actually: worker39 predicted: worker39 proba: 0.1378067536298992\n",
      "actually: worker4 predicted: worker4 proba: 0.19531904382285592\n",
      "actually: worker43 predicted: worker43 proba: 0.24853867686369605\n",
      "actually: worker46 predicted: worker46 proba: 0.17051493814223276\n",
      "actually: worker5 predicted: worker5 proba: 0.13935785990041893\n",
      "actually: worker53 predicted: worker53 proba: 0.1310987893680769\n",
      "actually: worker6 predicted: worker6 proba: 0.2321193702828978\n",
      "actually: worker7 predicted: worker7 proba: 0.14091335027331806\n",
      "actually: worker8 predicted: worker8 proba: 0.14354656942703353\n",
      "actually: worker9 predicted: worker9 proba: 0.2722152891184574\n",
      "mistake count 0\n",
      "known mean 0.18596741811563566 unknown mean 0.08669502644015312 delta 0.09927239167548255\n"
     ]
    },
    {
     "data": {
      "text/plain": "0"
     },
     "execution_count": 22,
     "metadata": {},
     "output_type": "execute_result"
    }
   ],
   "source": [
    "# clf =    CalibratedClassifierCV(svm.SVC(kernel='rbf', probability=True, C=20, random_state=10), cv=3)\n",
    "\n",
    "# clf = svm.SVC(kernel='linear', probability=True, C=50, random_state=10)\n",
    "clf = svm.SVC(kernel='rbf', probability=True, C=50, random_state=10)\n",
    "clf.fit(X_train, y_train)\n",
    "score(clf, 11.5, verbose=True)\n",
    "# clfs = [\n",
    "#     svm.SVC(kernel='linear', probability=True, C=50, random_state=10),\n",
    "#     svm.SVC(kernel='rbf', probability=True, C=50, random_state=10),\n",
    "    # svm.SVC(kernel='poly', degree=5, probability=True, C=50, random_state=10),\n",
    "# ]\n",
    "# thrs = [\n",
    "#     11.5,\n",
    "#     11.5,\n",
    "#     11,\n",
    "#     11,\n",
    "# ]\n",
    "\n",
    "# for clf, threshold in zip(clfs, thrs):\n",
    "#     clf.fit(X_train, y_train)\n",
    "#     score(clf, threshold, verbose=True)\n",
    "    # score(clf, threshold)"
   ],
   "metadata": {
    "collapsed": false,
    "ExecuteTime": {
     "end_time": "2023-05-25T14:28:47.724749600Z",
     "start_time": "2023-05-25T14:28:47.657215200Z"
    }
   }
  },
  {
   "cell_type": "markdown",
   "source": [
    "Попробовать нарисовать "
   ],
   "metadata": {
    "collapsed": false
   }
  },
  {
   "cell_type": "code",
   "execution_count": null,
   "outputs": [],
   "source": [
    "import matplotlib.pyplot as plt\n",
    "from sklearn.decomposition import PCA"
   ],
   "metadata": {
    "collapsed": false
   }
  },
  {
   "cell_type": "code",
   "execution_count": null,
   "outputs": [],
   "source": [
    "pca = PCA(n_components=2)\n",
    "X_pca = pca.fit_transform(X_train)\n",
    "plt.scatter(X_pca[:,0], X_pca[:,1], c=y_train, cmap='inferno', marker='x')\n",
    "plt.xlabel('Feature 1')\n",
    "plt.ylabel('Feature 2')\n",
    "plt.title('SVC Classification')\n",
    "plt.show()"
   ],
   "metadata": {
    "collapsed": false
   }
  }
 ],
 "metadata": {
  "kernelspec": {
   "display_name": "Python 3",
   "language": "python",
   "name": "python3"
  },
  "language_info": {
   "codemirror_mode": {
    "name": "ipython",
    "version": 2
   },
   "file_extension": ".py",
   "mimetype": "text/x-python",
   "name": "python",
   "nbconvert_exporter": "python",
   "pygments_lexer": "ipython2",
   "version": "2.7.6"
  }
 },
 "nbformat": 4,
 "nbformat_minor": 0
}
